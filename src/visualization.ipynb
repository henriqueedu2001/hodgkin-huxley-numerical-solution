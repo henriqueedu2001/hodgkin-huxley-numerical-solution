{
 "cells": [
  {
   "cell_type": "code",
   "execution_count": 1,
   "metadata": {},
   "outputs": [],
   "source": [
    "import numpy as np\n",
    "import pandas as pd\n",
    "import matplotlib.pyplot as plt"
   ]
  },
  {
   "cell_type": "code",
   "execution_count": 2,
   "metadata": {},
   "outputs": [
    {
     "data": {
      "text/html": [
       "<div>\n",
       "<style scoped>\n",
       "    .dataframe tbody tr th:only-of-type {\n",
       "        vertical-align: middle;\n",
       "    }\n",
       "\n",
       "    .dataframe tbody tr th {\n",
       "        vertical-align: top;\n",
       "    }\n",
       "\n",
       "    .dataframe thead th {\n",
       "        text-align: right;\n",
       "    }\n",
       "</style>\n",
       "<table border=\"1\" class=\"dataframe\">\n",
       "  <thead>\n",
       "    <tr style=\"text-align: right;\">\n",
       "      <th></th>\n",
       "      <th>Unnamed: 0</th>\n",
       "      <th>0</th>\n",
       "      <th>1</th>\n",
       "      <th>2</th>\n",
       "      <th>3</th>\n",
       "      <th>4</th>\n",
       "    </tr>\n",
       "  </thead>\n",
       "  <tbody>\n",
       "    <tr>\n",
       "      <th>0</th>\n",
       "      <td>0</td>\n",
       "      <td>0.000</td>\n",
       "      <td>0.000000</td>\n",
       "      <td>0.050000</td>\n",
       "      <td>0.600000</td>\n",
       "      <td>0.060000</td>\n",
       "    </tr>\n",
       "    <tr>\n",
       "      <th>1</th>\n",
       "      <td>1</td>\n",
       "      <td>0.006</td>\n",
       "      <td>0.025270</td>\n",
       "      <td>0.050075</td>\n",
       "      <td>0.599997</td>\n",
       "      <td>0.060283</td>\n",
       "    </tr>\n",
       "    <tr>\n",
       "      <th>2</th>\n",
       "      <td>2</td>\n",
       "      <td>0.012</td>\n",
       "      <td>0.050521</td>\n",
       "      <td>0.050153</td>\n",
       "      <td>0.599993</td>\n",
       "      <td>0.060567</td>\n",
       "    </tr>\n",
       "    <tr>\n",
       "      <th>3</th>\n",
       "      <td>3</td>\n",
       "      <td>0.018</td>\n",
       "      <td>0.075754</td>\n",
       "      <td>0.050232</td>\n",
       "      <td>0.599989</td>\n",
       "      <td>0.060851</td>\n",
       "    </tr>\n",
       "    <tr>\n",
       "      <th>4</th>\n",
       "      <td>4</td>\n",
       "      <td>0.024</td>\n",
       "      <td>0.100969</td>\n",
       "      <td>0.050313</td>\n",
       "      <td>0.599984</td>\n",
       "      <td>0.061134</td>\n",
       "    </tr>\n",
       "  </tbody>\n",
       "</table>\n",
       "</div>"
      ],
      "text/plain": [
       "   Unnamed: 0      0         1         2         3         4\n",
       "0           0  0.000  0.000000  0.050000  0.600000  0.060000\n",
       "1           1  0.006  0.025270  0.050075  0.599997  0.060283\n",
       "2           2  0.012  0.050521  0.050153  0.599993  0.060567\n",
       "3           3  0.018  0.075754  0.050232  0.599989  0.060851\n",
       "4           4  0.024  0.100969  0.050313  0.599984  0.061134"
      ]
     },
     "execution_count": 2,
     "metadata": {},
     "output_type": "execute_result"
    }
   ],
   "source": [
    "df = pd.read_csv('out.csv')\n",
    "df.head()"
   ]
  },
  {
   "cell_type": "code",
   "execution_count": 3,
   "metadata": {},
   "outputs": [
    {
     "data": {
      "text/plain": [
       "(5000, 6)"
      ]
     },
     "execution_count": 3,
     "metadata": {},
     "output_type": "execute_result"
    }
   ],
   "source": [
    "df.shape"
   ]
  },
  {
   "cell_type": "code",
   "execution_count": 4,
   "metadata": {},
   "outputs": [],
   "source": [
    "t, V, m, h, n = df['0'], df['1'], df['2'], df['3'], df['4']"
   ]
  },
  {
   "cell_type": "code",
   "execution_count": 5,
   "metadata": {},
   "outputs": [
    {
     "name": "stderr",
     "output_type": "stream",
     "text": [
      "No artists with labels found to put in legend.  Note that artists whose label start with an underscore are ignored when legend() is called with no argument.\n"
     ]
    },
    {
     "data": {
      "image/png": "[encoded data removed]",
      "text/plain": [
       "<Figure size 432x288 with 4 Axes>"
      ]
     },
     "metadata": {
      "needs_background": "light"
     },
     "output_type": "display_data"
    }
   ],
   "source": [
    "plt.figure()\n",
    "\n",
    "plt.subplot(4, 1, 1)\n",
    "plt.ylabel('$V$ (mV)')\n",
    "plt.plot(t, V, label='V', color = 'black', linewidth=0.8)\n",
    "plt.title('Potencial da membrana $V$')\n",
    "plt.legend()\n",
    "plt.subplot(4, 1, 2)\n",
    "plt.plot(t, m, label='m', color = 'black', linewidth=0.8)\n",
    "plt.ylabel('$m$')\n",
    "plt.legend()\n",
    "plt.subplot(4, 1, 3)\n",
    "plt.plot(t, h, label='h', color = 'black', linewidth=0.8)\n",
    "plt.ylabel('$h$')\n",
    "plt.legend()\n",
    "plt.subplot(4, 1, 4)\n",
    "plt.legend()\n",
    "plt.plot(t, n, label='n', color = 'black', linewidth=0.8)\n",
    "plt.ylabel('$n$')\n",
    "plt.legend()\n",
    "plt.show()"
   ]
  }
 ],
 "metadata": {
  "kernelspec": {
   "display_name": "Python 3",
   "language": "python",
   "name": "python3"
  },
  "language_info": {
   "codemirror_mode": {
    "name": "ipython",
    "version": 3
   },
   "file_extension": ".py",
   "mimetype": "text/x-python",
   "name": "python",
   "nbconvert_exporter": "python",
   "pygments_lexer": "ipython3",
   "version": "3.10.4"
  }
 },
 "nbformat": 4,
 "nbformat_minor": 2
}
